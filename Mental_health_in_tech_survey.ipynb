{
  "nbformat": 4,
  "nbformat_minor": 0,
  "metadata": {
    "colab": {
      "name": "Mental health in tech survey.ipynb",
      "provenance": [],
      "collapsed_sections": []
    },
    "kernelspec": {
      "name": "python3",
      "display_name": "Python 3"
    },
    "language_info": {
      "name": "python"
    }
  },
  "cells": [
    {
      "cell_type": "code",
      "metadata": {
        "id": "Kclzf8OXfUfO"
      },
      "source": [
        "import pandas as pd  # read and wrangle dataframes\n",
        "import matplotlib.pyplot as plt # visualization\n",
        "import seaborn as sns # statistical visualizations and aesthetics\n",
        "from sklearn.base import TransformerMixin # To create new classes for transformations\n",
        "from sklearn.preprocessing import (FunctionTransformer, StandardScaler) # preprocessing \n",
        "from sklearn.decomposition import PCA # dimensionality reduction\n",
        "from sklearn.discriminant_analysis import LinearDiscriminantAnalysis as LDA\n",
        "from scipy.stats import boxcox # data transform\n",
        "from sklearn.model_selection import (train_test_split, KFold , StratifiedKFold, \n",
        "                                     cross_val_score, GridSearchCV, \n",
        "                                     learning_curve, validation_curve) # model selection modules\n",
        "from sklearn.pipeline import Pipeline # streaming pipelines\n",
        "from sklearn.base import BaseEstimator, TransformerMixin # To create a box-cox transformation class\n",
        "from collections import Counter\n",
        "from sklearn.metrics import confusion_matrix\n",
        "import warnings\n",
        "# load models\n",
        "from sklearn.tree import DecisionTreeClassifier\n",
        "from sklearn.linear_model import LogisticRegression\n",
        "from xgboost import (XGBClassifier, plot_importance)\n",
        "from sklearn.metrics import classification_report\n",
        "from sklearn.metrics import roc_curve,auc\n",
        "from sklearn.svm import SVC\n",
        "from sklearn.ensemble import (RandomForestClassifier, AdaBoostClassifier, ExtraTreesClassifier, GradientBoostingClassifier)\n",
        "from sklearn.neighbors import KNeighborsClassifier\n",
        "from sklearn.discriminant_analysis import LinearDiscriminantAnalysis\n",
        "from sklearn.naive_bayes import GaussianNB\n",
        "from sklearn.pipeline import Pipeline\n",
        "from sklearn.metrics import accuracy_score\n",
        "from time import time\n",
        "import numpy as np\n",
        "\n",
        "%matplotlib inline \n",
        "warnings.filterwarnings('ignore')\n",
        "sns.set_style('whitegrid')"
      ],
      "execution_count": 1,
      "outputs": []
    },
    {
      "cell_type": "code",
      "metadata": {
        "colab": {
          "base_uri": "https://localhost:8080/"
        },
        "id": "Rll8tuPNf9SE",
        "outputId": "c63642a4-2a1e-498b-a732-cffb75d389c7"
      },
      "source": [
        "data = pd.read_csv('/content/drive/MyDrive/7151CEM Computing individual project/Mental health in tech survey.csv')\n",
        "features = data.columns[:-1].tolist()\n",
        "print(data.shape)"
      ],
      "execution_count": 2,
      "outputs": [
        {
          "output_type": "stream",
          "text": [
            "(1259, 27)\n"
          ],
          "name": "stdout"
        }
      ]
    },
    {
      "cell_type": "code",
      "metadata": {
        "colab": {
          "base_uri": "https://localhost:8080/",
          "height": 394
        },
        "id": "rpM8hJaXgEMC",
        "outputId": "afe31af8-583c-43d1-91be-b3bded916847"
      },
      "source": [
        "data.head()"
      ],
      "execution_count": 3,
      "outputs": [
        {
          "output_type": "execute_result",
          "data": {
            "text/html": [
              "<div>\n",
              "<style scoped>\n",
              "    .dataframe tbody tr th:only-of-type {\n",
              "        vertical-align: middle;\n",
              "    }\n",
              "\n",
              "    .dataframe tbody tr th {\n",
              "        vertical-align: top;\n",
              "    }\n",
              "\n",
              "    .dataframe thead th {\n",
              "        text-align: right;\n",
              "    }\n",
              "</style>\n",
              "<table border=\"1\" class=\"dataframe\">\n",
              "  <thead>\n",
              "    <tr style=\"text-align: right;\">\n",
              "      <th></th>\n",
              "      <th>Timestamp</th>\n",
              "      <th>Age</th>\n",
              "      <th>Gender</th>\n",
              "      <th>Country</th>\n",
              "      <th>state</th>\n",
              "      <th>self_employed</th>\n",
              "      <th>family_history</th>\n",
              "      <th>treatment</th>\n",
              "      <th>work_interfere</th>\n",
              "      <th>no_employees</th>\n",
              "      <th>remote_work</th>\n",
              "      <th>tech_company</th>\n",
              "      <th>benefits</th>\n",
              "      <th>care_options</th>\n",
              "      <th>wellness_program</th>\n",
              "      <th>seek_help</th>\n",
              "      <th>anonymity</th>\n",
              "      <th>leave</th>\n",
              "      <th>mental_health_consequence</th>\n",
              "      <th>phys_health_consequence</th>\n",
              "      <th>coworkers</th>\n",
              "      <th>supervisor</th>\n",
              "      <th>mental_health_interview</th>\n",
              "      <th>phys_health_interview</th>\n",
              "      <th>mental_vs_physical</th>\n",
              "      <th>obs_consequence</th>\n",
              "      <th>comments</th>\n",
              "    </tr>\n",
              "  </thead>\n",
              "  <tbody>\n",
              "    <tr>\n",
              "      <th>0</th>\n",
              "      <td>2014-08-27 11:29:31</td>\n",
              "      <td>37</td>\n",
              "      <td>Female</td>\n",
              "      <td>United States</td>\n",
              "      <td>IL</td>\n",
              "      <td>NaN</td>\n",
              "      <td>No</td>\n",
              "      <td>Yes</td>\n",
              "      <td>Often</td>\n",
              "      <td>6-25</td>\n",
              "      <td>No</td>\n",
              "      <td>Yes</td>\n",
              "      <td>Yes</td>\n",
              "      <td>Not sure</td>\n",
              "      <td>No</td>\n",
              "      <td>Yes</td>\n",
              "      <td>Yes</td>\n",
              "      <td>Somewhat easy</td>\n",
              "      <td>No</td>\n",
              "      <td>No</td>\n",
              "      <td>Some of them</td>\n",
              "      <td>Yes</td>\n",
              "      <td>No</td>\n",
              "      <td>Maybe</td>\n",
              "      <td>Yes</td>\n",
              "      <td>No</td>\n",
              "      <td>NaN</td>\n",
              "    </tr>\n",
              "    <tr>\n",
              "      <th>1</th>\n",
              "      <td>2014-08-27 11:29:37</td>\n",
              "      <td>44</td>\n",
              "      <td>M</td>\n",
              "      <td>United States</td>\n",
              "      <td>IN</td>\n",
              "      <td>NaN</td>\n",
              "      <td>No</td>\n",
              "      <td>No</td>\n",
              "      <td>Rarely</td>\n",
              "      <td>More than 1000</td>\n",
              "      <td>No</td>\n",
              "      <td>No</td>\n",
              "      <td>Don't know</td>\n",
              "      <td>No</td>\n",
              "      <td>Don't know</td>\n",
              "      <td>Don't know</td>\n",
              "      <td>Don't know</td>\n",
              "      <td>Don't know</td>\n",
              "      <td>Maybe</td>\n",
              "      <td>No</td>\n",
              "      <td>No</td>\n",
              "      <td>No</td>\n",
              "      <td>No</td>\n",
              "      <td>No</td>\n",
              "      <td>Don't know</td>\n",
              "      <td>No</td>\n",
              "      <td>NaN</td>\n",
              "    </tr>\n",
              "    <tr>\n",
              "      <th>2</th>\n",
              "      <td>2014-08-27 11:29:44</td>\n",
              "      <td>32</td>\n",
              "      <td>Male</td>\n",
              "      <td>Canada</td>\n",
              "      <td>NaN</td>\n",
              "      <td>NaN</td>\n",
              "      <td>No</td>\n",
              "      <td>No</td>\n",
              "      <td>Rarely</td>\n",
              "      <td>6-25</td>\n",
              "      <td>No</td>\n",
              "      <td>Yes</td>\n",
              "      <td>No</td>\n",
              "      <td>No</td>\n",
              "      <td>No</td>\n",
              "      <td>No</td>\n",
              "      <td>Don't know</td>\n",
              "      <td>Somewhat difficult</td>\n",
              "      <td>No</td>\n",
              "      <td>No</td>\n",
              "      <td>Yes</td>\n",
              "      <td>Yes</td>\n",
              "      <td>Yes</td>\n",
              "      <td>Yes</td>\n",
              "      <td>No</td>\n",
              "      <td>No</td>\n",
              "      <td>NaN</td>\n",
              "    </tr>\n",
              "    <tr>\n",
              "      <th>3</th>\n",
              "      <td>2014-08-27 11:29:46</td>\n",
              "      <td>31</td>\n",
              "      <td>Male</td>\n",
              "      <td>United Kingdom</td>\n",
              "      <td>NaN</td>\n",
              "      <td>NaN</td>\n",
              "      <td>Yes</td>\n",
              "      <td>Yes</td>\n",
              "      <td>Often</td>\n",
              "      <td>26-100</td>\n",
              "      <td>No</td>\n",
              "      <td>Yes</td>\n",
              "      <td>No</td>\n",
              "      <td>Yes</td>\n",
              "      <td>No</td>\n",
              "      <td>No</td>\n",
              "      <td>No</td>\n",
              "      <td>Somewhat difficult</td>\n",
              "      <td>Yes</td>\n",
              "      <td>Yes</td>\n",
              "      <td>Some of them</td>\n",
              "      <td>No</td>\n",
              "      <td>Maybe</td>\n",
              "      <td>Maybe</td>\n",
              "      <td>No</td>\n",
              "      <td>Yes</td>\n",
              "      <td>NaN</td>\n",
              "    </tr>\n",
              "    <tr>\n",
              "      <th>4</th>\n",
              "      <td>2014-08-27 11:30:22</td>\n",
              "      <td>31</td>\n",
              "      <td>Male</td>\n",
              "      <td>United States</td>\n",
              "      <td>TX</td>\n",
              "      <td>NaN</td>\n",
              "      <td>No</td>\n",
              "      <td>No</td>\n",
              "      <td>Never</td>\n",
              "      <td>100-500</td>\n",
              "      <td>Yes</td>\n",
              "      <td>Yes</td>\n",
              "      <td>Yes</td>\n",
              "      <td>No</td>\n",
              "      <td>Don't know</td>\n",
              "      <td>Don't know</td>\n",
              "      <td>Don't know</td>\n",
              "      <td>Don't know</td>\n",
              "      <td>No</td>\n",
              "      <td>No</td>\n",
              "      <td>Some of them</td>\n",
              "      <td>Yes</td>\n",
              "      <td>Yes</td>\n",
              "      <td>Yes</td>\n",
              "      <td>Don't know</td>\n",
              "      <td>No</td>\n",
              "      <td>NaN</td>\n",
              "    </tr>\n",
              "  </tbody>\n",
              "</table>\n",
              "</div>"
            ],
            "text/plain": [
              "             Timestamp  Age  Gender  ... mental_vs_physical obs_consequence comments\n",
              "0  2014-08-27 11:29:31   37  Female  ...                Yes              No      NaN\n",
              "1  2014-08-27 11:29:37   44       M  ...         Don't know              No      NaN\n",
              "2  2014-08-27 11:29:44   32    Male  ...                 No              No      NaN\n",
              "3  2014-08-27 11:29:46   31    Male  ...                 No             Yes      NaN\n",
              "4  2014-08-27 11:30:22   31    Male  ...         Don't know              No      NaN\n",
              "\n",
              "[5 rows x 27 columns]"
            ]
          },
          "metadata": {
            "tags": []
          },
          "execution_count": 3
        }
      ]
    },
    {
      "cell_type": "code",
      "metadata": {
        "colab": {
          "base_uri": "https://localhost:8080/"
        },
        "id": "7QOO7hG9hRGs",
        "outputId": "645391b1-0d73-4ebc-f374-8eeb431452de"
      },
      "source": [
        "data.dtypes"
      ],
      "execution_count": 4,
      "outputs": [
        {
          "output_type": "execute_result",
          "data": {
            "text/plain": [
              "Timestamp                    object\n",
              "Age                           int64\n",
              "Gender                       object\n",
              "Country                      object\n",
              "state                        object\n",
              "self_employed                object\n",
              "family_history               object\n",
              "treatment                    object\n",
              "work_interfere               object\n",
              "no_employees                 object\n",
              "remote_work                  object\n",
              "tech_company                 object\n",
              "benefits                     object\n",
              "care_options                 object\n",
              "wellness_program             object\n",
              "seek_help                    object\n",
              "anonymity                    object\n",
              "leave                        object\n",
              "mental_health_consequence    object\n",
              "phys_health_consequence      object\n",
              "coworkers                    object\n",
              "supervisor                   object\n",
              "mental_health_interview      object\n",
              "phys_health_interview        object\n",
              "mental_vs_physical           object\n",
              "obs_consequence              object\n",
              "comments                     object\n",
              "dtype: object"
            ]
          },
          "metadata": {
            "tags": []
          },
          "execution_count": 4
        }
      ]
    },
    {
      "cell_type": "code",
      "metadata": {
        "colab": {
          "base_uri": "https://localhost:8080/",
          "height": 297
        },
        "id": "YlNsClhihVP7",
        "outputId": "3659c940-f25e-4c2c-ff01-036505a1d54c"
      },
      "source": [
        "data.describe()"
      ],
      "execution_count": 5,
      "outputs": [
        {
          "output_type": "execute_result",
          "data": {
            "text/html": [
              "<div>\n",
              "<style scoped>\n",
              "    .dataframe tbody tr th:only-of-type {\n",
              "        vertical-align: middle;\n",
              "    }\n",
              "\n",
              "    .dataframe tbody tr th {\n",
              "        vertical-align: top;\n",
              "    }\n",
              "\n",
              "    .dataframe thead th {\n",
              "        text-align: right;\n",
              "    }\n",
              "</style>\n",
              "<table border=\"1\" class=\"dataframe\">\n",
              "  <thead>\n",
              "    <tr style=\"text-align: right;\">\n",
              "      <th></th>\n",
              "      <th>Age</th>\n",
              "    </tr>\n",
              "  </thead>\n",
              "  <tbody>\n",
              "    <tr>\n",
              "      <th>count</th>\n",
              "      <td>1.259000e+03</td>\n",
              "    </tr>\n",
              "    <tr>\n",
              "      <th>mean</th>\n",
              "      <td>7.942815e+07</td>\n",
              "    </tr>\n",
              "    <tr>\n",
              "      <th>std</th>\n",
              "      <td>2.818299e+09</td>\n",
              "    </tr>\n",
              "    <tr>\n",
              "      <th>min</th>\n",
              "      <td>-1.726000e+03</td>\n",
              "    </tr>\n",
              "    <tr>\n",
              "      <th>25%</th>\n",
              "      <td>2.700000e+01</td>\n",
              "    </tr>\n",
              "    <tr>\n",
              "      <th>50%</th>\n",
              "      <td>3.100000e+01</td>\n",
              "    </tr>\n",
              "    <tr>\n",
              "      <th>75%</th>\n",
              "      <td>3.600000e+01</td>\n",
              "    </tr>\n",
              "    <tr>\n",
              "      <th>max</th>\n",
              "      <td>1.000000e+11</td>\n",
              "    </tr>\n",
              "  </tbody>\n",
              "</table>\n",
              "</div>"
            ],
            "text/plain": [
              "                Age\n",
              "count  1.259000e+03\n",
              "mean   7.942815e+07\n",
              "std    2.818299e+09\n",
              "min   -1.726000e+03\n",
              "25%    2.700000e+01\n",
              "50%    3.100000e+01\n",
              "75%    3.600000e+01\n",
              "max    1.000000e+11"
            ]
          },
          "metadata": {
            "tags": []
          },
          "execution_count": 5
        }
      ]
    },
    {
      "cell_type": "code",
      "metadata": {
        "id": "MeiLripKhZR8"
      },
      "source": [
        "# First tranforms \"United States\" and \"United Kingdom\" to their initial US and UK respectively.\n",
        "data['Country'].replace(to_replace = ['United States'],value = 'US', inplace = True)\n",
        "data['Country'].replace(to_replace = ['United Kingdom'],value = 'UK', inplace = True)"
      ],
      "execution_count": 6,
      "outputs": []
    },
    {
      "cell_type": "code",
      "metadata": {
        "colab": {
          "base_uri": "https://localhost:8080/"
        },
        "id": "JSndLznPhsXj",
        "outputId": "02376cfb-260d-41e5-b5e3-7429c375dcbe"
      },
      "source": [
        "# Check to see how many respondents come from for each countries \n",
        "data['Country'].value_counts()"
      ],
      "execution_count": 7,
      "outputs": [
        {
          "output_type": "execute_result",
          "data": {
            "text/plain": [
              "US                        751\n",
              "UK                        185\n",
              "Canada                     72\n",
              "Germany                    45\n",
              "Ireland                    27\n",
              "Netherlands                27\n",
              "Australia                  21\n",
              "France                     13\n",
              "India                      10\n",
              "New Zealand                 8\n",
              "Switzerland                 7\n",
              "Sweden                      7\n",
              "Italy                       7\n",
              "Poland                      7\n",
              "South Africa                6\n",
              "Belgium                     6\n",
              "Brazil                      6\n",
              "Israel                      5\n",
              "Singapore                   4\n",
              "Bulgaria                    4\n",
              "Mexico                      3\n",
              "Russia                      3\n",
              "Austria                     3\n",
              "Finland                     3\n",
              "Greece                      2\n",
              "Croatia                     2\n",
              "Portugal                    2\n",
              "Colombia                    2\n",
              "Denmark                     2\n",
              "Hungary                     1\n",
              "Moldova                     1\n",
              "Latvia                      1\n",
              "Thailand                    1\n",
              "Costa Rica                  1\n",
              "Romania                     1\n",
              "Nigeria                     1\n",
              "Czech Republic              1\n",
              "Norway                      1\n",
              "China                       1\n",
              "Bosnia and Herzegovina      1\n",
              "Slovenia                    1\n",
              "Japan                       1\n",
              "Spain                       1\n",
              "Georgia                     1\n",
              "Zimbabwe                    1\n",
              "Philippines                 1\n",
              "Uruguay                     1\n",
              "Bahamas, The                1\n",
              "Name: Country, dtype: int64"
            ]
          },
          "metadata": {
            "tags": []
          },
          "execution_count": 7
        }
      ]
    },
    {
      "cell_type": "code",
      "metadata": {
        "colab": {
          "base_uri": "https://localhost:8080/",
          "height": 751
        },
        "id": "9mGGXn2Uhu2L",
        "outputId": "6612c828-f9df-4def-de22-8069d4e89e07"
      },
      "source": [
        "# Countries proportion \n",
        "fig1 = plt.figure(figsize=(10,10))\n",
        "ax1 = fig1.add_axes((0,0,.5,1))\n",
        "labels =  data['Country'].value_counts().index\n",
        "sizes = data['Country'].value_counts()\n",
        "percentages = sizes / 1259 * 100\n",
        "\n",
        "ax1.pie(percentages, labels=labels, autopct='%1.1f%%', shadow=True, startangle=90)\n",
        "ax1.axis('equal')\n",
        "\n",
        "plt.savefig('distributionofsurvey.png')\n",
        "\n",
        "plt.show()\n",
        "\n",
        "plt.close()"
      ],
      "execution_count": 8,
      "outputs": [
        {
          "output_type": "display_data",
          "data": {
            "image/png": "[encoded data removed]",
            "text/plain": [
              "<Figure size 720x720 with 1 Axes>"
            ]
          },
          "metadata": {
            "tags": []
          }
        }
      ]
    },
    {
      "cell_type": "code",
      "metadata": {
        "colab": {
          "base_uri": "https://localhost:8080/"
        },
        "id": "OVjBSoJZh0dr",
        "outputId": "b221e7a5-5d3a-4735-bca5-f5384e3ce40a"
      },
      "source": [
        "total_nulls = data.isnull().sum().sort_values(ascending=False)\n",
        "percent_nulls = (total_nulls/data.isnull().count()).sort_values(ascending=False)\n",
        "nulls = pd.concat([total_nulls, percent_nulls], axis=1, keys=['Total','Percentages'])\n",
        "nulls.head()\n",
        "print(nulls)"
      ],
      "execution_count": 9,
      "outputs": [
        {
          "output_type": "stream",
          "text": [
            "                           Total  Percentages\n",
            "comments                    1095     0.869738\n",
            "state                        515     0.409055\n",
            "work_interfere               264     0.209690\n",
            "self_employed                 18     0.014297\n",
            "benefits                       0     0.000000\n",
            "Age                            0     0.000000\n",
            "Gender                         0     0.000000\n",
            "Country                        0     0.000000\n",
            "family_history                 0     0.000000\n",
            "treatment                      0     0.000000\n",
            "no_employees                   0     0.000000\n",
            "remote_work                    0     0.000000\n",
            "tech_company                   0     0.000000\n",
            "care_options                   0     0.000000\n",
            "obs_consequence                0     0.000000\n",
            "wellness_program               0     0.000000\n",
            "seek_help                      0     0.000000\n",
            "anonymity                      0     0.000000\n",
            "leave                          0     0.000000\n",
            "mental_health_consequence      0     0.000000\n",
            "phys_health_consequence        0     0.000000\n",
            "coworkers                      0     0.000000\n",
            "supervisor                     0     0.000000\n",
            "mental_health_interview        0     0.000000\n",
            "phys_health_interview          0     0.000000\n",
            "mental_vs_physical             0     0.000000\n",
            "Timestamp                      0     0.000000\n"
          ],
          "name": "stdout"
        }
      ]
    },
    {
      "cell_type": "code",
      "metadata": {
        "id": "WD24y63HiGs0"
      },
      "source": [
        "data.drop(columns=['Timestamp','comments'],inplace=True)"
      ],
      "execution_count": 10,
      "outputs": []
    },
    {
      "cell_type": "code",
      "metadata": {
        "colab": {
          "base_uri": "https://localhost:8080/"
        },
        "id": "Qfq_fDIdjt_T",
        "outputId": "27501b42-4999-42d0-e161-f924a5751307"
      },
      "source": [
        "data['work_interfere'].value_counts()"
      ],
      "execution_count": 11,
      "outputs": [
        {
          "output_type": "execute_result",
          "data": {
            "text/plain": [
              "Sometimes    465\n",
              "Never        213\n",
              "Rarely       173\n",
              "Often        144\n",
              "Name: work_interfere, dtype: int64"
            ]
          },
          "metadata": {
            "tags": []
          },
          "execution_count": 11
        }
      ]
    },
    {
      "cell_type": "code",
      "metadata": {
        "colab": {
          "base_uri": "https://localhost:8080/"
        },
        "id": "a4S-25DFj0I7",
        "outputId": "0a9fa1b3-1253-4ffd-8ff0-95f9751f2863"
      },
      "source": [
        "data['work_interfere'].fillna('NA', inplace = True)\n",
        "data['work_interfere'].value_counts()"
      ],
      "execution_count": 12,
      "outputs": [
        {
          "output_type": "execute_result",
          "data": {
            "text/plain": [
              "Sometimes    465\n",
              "NA           264\n",
              "Never        213\n",
              "Rarely       173\n",
              "Often        144\n",
              "Name: work_interfere, dtype: int64"
            ]
          },
          "metadata": {
            "tags": []
          },
          "execution_count": 12
        }
      ]
    },
    {
      "cell_type": "code",
      "metadata": {
        "id": "WKNd1JhMj5PM"
      },
      "source": [
        ""
      ],
      "execution_count": null,
      "outputs": []
    }
  ]
}